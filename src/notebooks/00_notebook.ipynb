{
 "nbformat": 4,
 "nbformat_minor": 2,
 "metadata": {
  "language_info": {
   "name": "python",
   "codemirror_mode": {
    "name": "ipython",
    "version": 3
   },
   "version": "3.7.7-final"
  },
  "orig_nbformat": 2,
  "file_extension": ".py",
  "mimetype": "text/x-python",
  "name": "python",
  "npconvert_exporter": "python",
  "pygments_lexer": "ipython3",
  "version": 3,
  "kernelspec": {
   "name": "python37764bitrecconda6d8985b788704b2fa91157c5d2d5efd3",
   "display_name": "Python 3.7.7 64-bit ('rec': conda)"
  }
 },
 "cells": [
  {
   "cell_type": "markdown",
   "metadata": {},
   "source": [
    "# Data prepration"
   ]
  },
  {
   "cell_type": "code",
   "execution_count": 90,
   "metadata": {},
   "outputs": [
    {
     "output_type": "stream",
     "name": "stdout",
     "text": "The watermark extension is already loaded. To reload it, use:\n  %reload_ext watermark\nDinabandhu Behera\nThu Apr 02 2020 \n\nCPython 3.7.7\nIPython 7.13.0\n\nnumpy 1.18.1\nscipy 1.4.1\npandas 1.0.3\nsklearn 0.22.1\nsurprise 1.1.0\n\ncompiler   : GCC 7.3.0\nsystem     : Linux\nrelease    : 4.15.0-91-generic\nmachine    : x86_64\nprocessor  : x86_64\nCPU cores  : 4\ninterpreter: 64bit\n"
    }
   ],
   "source": [
    "%load_ext watermark\n",
    "%watermark -a \"Dinabandhu Behera\"\n",
    "%watermark -v -n -m -p numpy,scipy,pandas,scikit-learn,surprise"
   ]
  },
  {
   "cell_type": "markdown",
   "metadata": {},
   "source": [
    "## Data Import from Bigquery"
   ]
  },
  {
   "cell_type": "code",
   "execution_count": 91,
   "metadata": {},
   "outputs": [],
   "source": [
    "import os\n",
    "import pandas as pd"
   ]
  },
  {
   "cell_type": "markdown",
   "metadata": {},
   "source": [
    "### GOOGLE_APPLICATION_CREDENTIALS setting"
   ]
  },
  {
   "cell_type": "code",
   "execution_count": 92,
   "metadata": {},
   "outputs": [
    {
     "output_type": "stream",
     "name": "stdout",
     "text": "/home/db/myLab/recommendation_engine/coe-solutions-215839-c9b1b2b721c8.json\n"
    }
   ],
   "source": [
    "os.environ['GOOGLE_APPLICATION_CREDENTIALS'] = os.path.join('/'.join(os.getcwd().split('/')[:-2]),'coe-solutions-215839-c9b1b2b721c8.json')\n",
    "print(os.environ['GOOGLE_APPLICATION_CREDENTIALS'])"
   ]
  },
  {
   "cell_type": "markdown",
   "metadata": {},
   "source": [
    "### Writing SQL Query"
   ]
  },
  {
   "cell_type": "code",
   "execution_count": 93,
   "metadata": {},
   "outputs": [],
   "source": [
    "sql = '''\n",
    "SELECT \n",
    "* \n",
    "FROM \n",
    "`coe-solutions-215839.clickstream_dataset.clickstream_data1_cleaned_scheduled` \n",
    "LIMIT \n",
    "1000\n",
    "'''"
   ]
  },
  {
   "cell_type": "markdown",
   "metadata": {},
   "source": [
    "### Data from Bigquery to DataFrame"
   ]
  },
  {
   "cell_type": "code",
   "execution_count": 94,
   "metadata": {},
   "outputs": [],
   "source": [
    "df = pd.read_gbq(sql,dialect='standard')"
   ]
  },
  {
   "cell_type": "code",
   "execution_count": 95,
   "metadata": {},
   "outputs": [
    {
     "output_type": "execute_result",
     "data": {
      "text/plain": "   detectedDuplicate  detectedCorruption  firstInSession      timestamp  \\\n0              False               False            True  1585033407975   \n1              False               False            True  1585033407975   \n2              False               False           False  1585033414446   \n3              False               False           False  1585033414446   \n4              False               False           False  1585033416538   \n\n   clientTimestamp     remoteHost                     referer  \\\n0    1585033410150  49.207.62.218  http://127.0.0.1:5000/home   \n1    1585033410150  49.207.62.218  http://127.0.0.1:5000/home   \n2    1585033416642  49.207.62.218  http://127.0.0.1:5000/home   \n3    1585033416642  49.207.62.218  http://127.0.0.1:5000/home   \n4    1585033418716  49.207.62.218  http://127.0.0.1:5000/home   \n\n                               location  productID viewportPixelWidth  ...  \\\n0  http://127.0.0.1:5000/product/100001   100001.0                NaT  ...   \n1  http://127.0.0.1:5000/product/100001   100001.0                NaT  ...   \n2  http://127.0.0.1:5000/product/100001   100001.0                NaT  ...   \n3  http://127.0.0.1:5000/product/100001   100001.0                NaT  ...   \n4  http://127.0.0.1:5000/product/100001   100001.0                NaT  ...   \n\n                                     userAgentString userAgentName  \\\n0  Mozilla/5.0 (Windows NT 10.0; Win64; x64) Appl...        Chrome   \n1  Mozilla/5.0 (Windows NT 10.0; Win64; x64) Appl...        Chrome   \n2  Mozilla/5.0 (Windows NT 10.0; Win64; x64) Appl...        Chrome   \n3  Mozilla/5.0 (Windows NT 10.0; Win64; x64) Appl...        Chrome   \n4  Mozilla/5.0 (Windows NT 10.0; Win64; x64) Appl...        Chrome   \n\n   userAgentFamily userAgentVendor userAgentType userAgentVersion  \\\n0           Chrome     Google Inc.       Browser              NaN   \n1           Chrome     Google Inc.       Browser              NaN   \n2           Chrome     Google Inc.       Browser              NaN   \n3           Chrome     Google Inc.       Browser              NaN   \n4           Chrome     Google Inc.       Browser              NaN   \n\n  userAgentDeviceCategory userAgentOsFamily userAgentOsVersion  \\\n0       Personal computer           Windows               10.0   \n1       Personal computer           Windows               10.0   \n2       Personal computer           Windows               10.0   \n3       Personal computer           Windows               10.0   \n4       Personal computer           Windows               10.0   \n\n        userAgentOsVendor  \n0  Microsoft Corporation.  \n1  Microsoft Corporation.  \n2  Microsoft Corporation.  \n3  Microsoft Corporation.  \n4  Microsoft Corporation.  \n\n[5 rows x 27 columns]",
      "text/html": "<div>\n<style scoped>\n    .dataframe tbody tr th:only-of-type {\n        vertical-align: middle;\n    }\n\n    .dataframe tbody tr th {\n        vertical-align: top;\n    }\n\n    .dataframe thead th {\n        text-align: right;\n    }\n</style>\n<table border=\"1\" class=\"dataframe\">\n  <thead>\n    <tr style=\"text-align: right;\">\n      <th></th>\n      <th>detectedDuplicate</th>\n      <th>detectedCorruption</th>\n      <th>firstInSession</th>\n      <th>timestamp</th>\n      <th>clientTimestamp</th>\n      <th>remoteHost</th>\n      <th>referer</th>\n      <th>location</th>\n      <th>productID</th>\n      <th>viewportPixelWidth</th>\n      <th>...</th>\n      <th>userAgentString</th>\n      <th>userAgentName</th>\n      <th>userAgentFamily</th>\n      <th>userAgentVendor</th>\n      <th>userAgentType</th>\n      <th>userAgentVersion</th>\n      <th>userAgentDeviceCategory</th>\n      <th>userAgentOsFamily</th>\n      <th>userAgentOsVersion</th>\n      <th>userAgentOsVendor</th>\n    </tr>\n  </thead>\n  <tbody>\n    <tr>\n      <th>0</th>\n      <td>False</td>\n      <td>False</td>\n      <td>True</td>\n      <td>1585033407975</td>\n      <td>1585033410150</td>\n      <td>49.207.62.218</td>\n      <td>http://127.0.0.1:5000/home</td>\n      <td>http://127.0.0.1:5000/product/100001</td>\n      <td>100001.0</td>\n      <td>NaT</td>\n      <td>...</td>\n      <td>Mozilla/5.0 (Windows NT 10.0; Win64; x64) Appl...</td>\n      <td>Chrome</td>\n      <td>Chrome</td>\n      <td>Google Inc.</td>\n      <td>Browser</td>\n      <td>NaN</td>\n      <td>Personal computer</td>\n      <td>Windows</td>\n      <td>10.0</td>\n      <td>Microsoft Corporation.</td>\n    </tr>\n    <tr>\n      <th>1</th>\n      <td>False</td>\n      <td>False</td>\n      <td>True</td>\n      <td>1585033407975</td>\n      <td>1585033410150</td>\n      <td>49.207.62.218</td>\n      <td>http://127.0.0.1:5000/home</td>\n      <td>http://127.0.0.1:5000/product/100001</td>\n      <td>100001.0</td>\n      <td>NaT</td>\n      <td>...</td>\n      <td>Mozilla/5.0 (Windows NT 10.0; Win64; x64) Appl...</td>\n      <td>Chrome</td>\n      <td>Chrome</td>\n      <td>Google Inc.</td>\n      <td>Browser</td>\n      <td>NaN</td>\n      <td>Personal computer</td>\n      <td>Windows</td>\n      <td>10.0</td>\n      <td>Microsoft Corporation.</td>\n    </tr>\n    <tr>\n      <th>2</th>\n      <td>False</td>\n      <td>False</td>\n      <td>False</td>\n      <td>1585033414446</td>\n      <td>1585033416642</td>\n      <td>49.207.62.218</td>\n      <td>http://127.0.0.1:5000/home</td>\n      <td>http://127.0.0.1:5000/product/100001</td>\n      <td>100001.0</td>\n      <td>NaT</td>\n      <td>...</td>\n      <td>Mozilla/5.0 (Windows NT 10.0; Win64; x64) Appl...</td>\n      <td>Chrome</td>\n      <td>Chrome</td>\n      <td>Google Inc.</td>\n      <td>Browser</td>\n      <td>NaN</td>\n      <td>Personal computer</td>\n      <td>Windows</td>\n      <td>10.0</td>\n      <td>Microsoft Corporation.</td>\n    </tr>\n    <tr>\n      <th>3</th>\n      <td>False</td>\n      <td>False</td>\n      <td>False</td>\n      <td>1585033414446</td>\n      <td>1585033416642</td>\n      <td>49.207.62.218</td>\n      <td>http://127.0.0.1:5000/home</td>\n      <td>http://127.0.0.1:5000/product/100001</td>\n      <td>100001.0</td>\n      <td>NaT</td>\n      <td>...</td>\n      <td>Mozilla/5.0 (Windows NT 10.0; Win64; x64) Appl...</td>\n      <td>Chrome</td>\n      <td>Chrome</td>\n      <td>Google Inc.</td>\n      <td>Browser</td>\n      <td>NaN</td>\n      <td>Personal computer</td>\n      <td>Windows</td>\n      <td>10.0</td>\n      <td>Microsoft Corporation.</td>\n    </tr>\n    <tr>\n      <th>4</th>\n      <td>False</td>\n      <td>False</td>\n      <td>False</td>\n      <td>1585033416538</td>\n      <td>1585033418716</td>\n      <td>49.207.62.218</td>\n      <td>http://127.0.0.1:5000/home</td>\n      <td>http://127.0.0.1:5000/product/100001</td>\n      <td>100001.0</td>\n      <td>NaT</td>\n      <td>...</td>\n      <td>Mozilla/5.0 (Windows NT 10.0; Win64; x64) Appl...</td>\n      <td>Chrome</td>\n      <td>Chrome</td>\n      <td>Google Inc.</td>\n      <td>Browser</td>\n      <td>NaN</td>\n      <td>Personal computer</td>\n      <td>Windows</td>\n      <td>10.0</td>\n      <td>Microsoft Corporation.</td>\n    </tr>\n  </tbody>\n</table>\n<p>5 rows × 27 columns</p>\n</div>"
     },
     "metadata": {},
     "execution_count": 95
    }
   ],
   "source": [
    "df.head()"
   ]
  },
  {
   "cell_type": "markdown",
   "metadata": {},
   "source": [
    "## Data Preprocessing"
   ]
  },
  {
   "cell_type": "code",
   "execution_count": 96,
   "metadata": {},
   "outputs": [
    {
     "output_type": "execute_result",
     "data": {
      "text/plain": "Index(['detectedDuplicate', 'detectedCorruption', 'firstInSession',\n       'timestamp', 'clientTimestamp', 'remoteHost', 'referer', 'location',\n       'productID', 'viewportPixelWidth', 'viewportPixelHeight',\n       'screenPixelWidth', 'screenPixelHeight', 'partyId', 'sessionId',\n       'pageViewId', 'eventType', 'userAgentString', 'userAgentName',\n       'userAgentFamily', 'userAgentVendor', 'userAgentType',\n       'userAgentVersion', 'userAgentDeviceCategory', 'userAgentOsFamily',\n       'userAgentOsVersion', 'userAgentOsVendor'],\n      dtype='object')"
     },
     "metadata": {},
     "execution_count": 96
    }
   ],
   "source": [
    "df.columns"
   ]
  },
  {
   "cell_type": "code",
   "execution_count": 97,
   "metadata": {},
   "outputs": [],
   "source": [
    "cols_rec = ['productID','sessionId','eventType']"
   ]
  },
  {
   "cell_type": "code",
   "execution_count": 98,
   "metadata": {},
   "outputs": [],
   "source": [
    "df = df[cols_rec]"
   ]
  },
  {
   "cell_type": "code",
   "execution_count": 99,
   "metadata": {},
   "outputs": [],
   "source": [
    "df['productID'] = df['productID'].fillna(0).astype('int32')"
   ]
  },
  {
   "cell_type": "markdown",
   "metadata": {},
   "source": [
    "### Converting to numerical value for implicit user rating"
   ]
  },
  {
   "cell_type": "code",
   "execution_count": 100,
   "metadata": {},
   "outputs": [],
   "source": [
    "df['ratings'] = df['eventType'].apply(lambda x: 1 if x=='pageView' else (2 if x=='cart' else 3))"
   ]
  },
  {
   "cell_type": "markdown",
   "metadata": {},
   "source": [
    "### Converting sessionId to userID"
   ]
  },
  {
   "cell_type": "code",
   "execution_count": 101,
   "metadata": {},
   "outputs": [],
   "source": [
    "from sklearn.preprocessing import LabelEncoder\n",
    "\n",
    "enc = LabelEncoder()"
   ]
  },
  {
   "cell_type": "code",
   "execution_count": 102,
   "metadata": {},
   "outputs": [],
   "source": [
    "df['userID'] = enc.fit_transform(df['sessionId'])"
   ]
  },
  {
   "cell_type": "code",
   "execution_count": 103,
   "metadata": {},
   "outputs": [],
   "source": [
    "df_final = df[['userID','productID','ratings']]"
   ]
  },
  {
   "cell_type": "markdown",
   "metadata": {},
   "source": [
    "## Experimentation part"
   ]
  },
  {
   "cell_type": "code",
   "execution_count": 6,
   "metadata": {},
   "outputs": [],
   "source": [
    "from data import RecDataSet"
   ]
  },
  {
   "cell_type": "code",
   "execution_count": 5,
   "metadata": {},
   "outputs": [],
   "source": [
    "from models import SVDModel"
   ]
  },
  {
   "cell_type": "code",
   "execution_count": 4,
   "metadata": {},
   "outputs": [],
   "source": [
    "import os\n",
    "import sys\n",
    "sys.path.append('../')"
   ]
  },
  {
   "cell_type": "code",
   "execution_count": 14,
   "metadata": {},
   "outputs": [
    {
     "output_type": "error",
     "ename": "TypeError",
     "evalue": "get_data() missing 1 required positional argument: 'self'",
     "traceback": [
      "\u001b[0;31m---------------------------------------------------------------------------\u001b[0m",
      "\u001b[0;31mTypeError\u001b[0m                                 Traceback (most recent call last)",
      "\u001b[0;32m<ipython-input-14-e57d3e081da3>\u001b[0m in \u001b[0;36m<module>\u001b[0;34m\u001b[0m\n\u001b[0;32m----> 1\u001b[0;31m \u001b[0mdata\u001b[0m \u001b[0;34m=\u001b[0m \u001b[0mRecDataSet\u001b[0m\u001b[0;34m.\u001b[0m\u001b[0mget_data\u001b[0m\u001b[0;34m(\u001b[0m\u001b[0;34m)\u001b[0m\u001b[0;34m\u001b[0m\u001b[0;34m\u001b[0m\u001b[0m\n\u001b[0m",
      "\u001b[0;31mTypeError\u001b[0m: get_data() missing 1 required positional argument: 'self'"
     ]
    }
   ],
   "source": [
    "data = RecDataSet.get_data()\n",
    ""
   ]
  },
  {
   "cell_type": "code",
   "execution_count": 10,
   "metadata": {},
   "outputs": [],
   "source": [
    "import pandas as pd"
   ]
  },
  {
   "cell_type": "code",
   "execution_count": 12,
   "metadata": {},
   "outputs": [
    {
     "output_type": "error",
     "ename": "ValueError",
     "evalue": "DataFrame constructor not properly called!",
     "traceback": [
      "\u001b[0;31m---------------------------------------------------------------------------\u001b[0m",
      "\u001b[0;31mValueError\u001b[0m                                Traceback (most recent call last)",
      "\u001b[0;32m<ipython-input-12-cd168f76d566>\u001b[0m in \u001b[0;36m<module>\u001b[0;34m\u001b[0m\n\u001b[0;32m----> 1\u001b[0;31m \u001b[0mpd\u001b[0m\u001b[0;34m.\u001b[0m\u001b[0mDataFrame\u001b[0m\u001b[0;34m(\u001b[0m\u001b[0mdata\u001b[0m\u001b[0;34m)\u001b[0m\u001b[0;34m\u001b[0m\u001b[0;34m\u001b[0m\u001b[0m\n\u001b[0m",
      "\u001b[0;32m~/anaconda3/envs/rec/lib/python3.7/site-packages/pandas/core/frame.py\u001b[0m in \u001b[0;36m__init__\u001b[0;34m(self, data, index, columns, dtype, copy)\u001b[0m\n\u001b[1;32m    507\u001b[0m                 )\n\u001b[1;32m    508\u001b[0m             \u001b[0;32melse\u001b[0m\u001b[0;34m:\u001b[0m\u001b[0;34m\u001b[0m\u001b[0;34m\u001b[0m\u001b[0m\n\u001b[0;32m--> 509\u001b[0;31m                 \u001b[0;32mraise\u001b[0m \u001b[0mValueError\u001b[0m\u001b[0;34m(\u001b[0m\u001b[0;34m\"DataFrame constructor not properly called!\"\u001b[0m\u001b[0;34m)\u001b[0m\u001b[0;34m\u001b[0m\u001b[0;34m\u001b[0m\u001b[0m\n\u001b[0m\u001b[1;32m    510\u001b[0m \u001b[0;34m\u001b[0m\u001b[0m\n\u001b[1;32m    511\u001b[0m         \u001b[0mNDFrame\u001b[0m\u001b[0;34m.\u001b[0m\u001b[0m__init__\u001b[0m\u001b[0;34m(\u001b[0m\u001b[0mself\u001b[0m\u001b[0;34m,\u001b[0m \u001b[0mmgr\u001b[0m\u001b[0;34m,\u001b[0m \u001b[0mfastpath\u001b[0m\u001b[0;34m=\u001b[0m\u001b[0;32mTrue\u001b[0m\u001b[0;34m)\u001b[0m\u001b[0;34m\u001b[0m\u001b[0;34m\u001b[0m\u001b[0m\n",
      "\u001b[0;31mValueError\u001b[0m: DataFrame constructor not properly called!"
     ]
    }
   ],
   "source": [
    "pd.DataFrame(data)"
   ]
  },
  {
   "cell_type": "code",
   "execution_count": null,
   "metadata": {},
   "outputs": [],
   "source": []
  }
 ]
}